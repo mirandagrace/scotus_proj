{
 "cells": [
  {
   "cell_type": "markdown",
   "metadata": {},
   "source": [
    "# The Data\n",
    "The first thing to do is to get the data. I've stored the data in a relational database for flexibility. \n",
    "\n",
    "## Get the Data\n",
    "I have written a function that cleans, and fetches the data that is necessary for predicting votes. This is the vote_predict.fetch_data function. vote_predict is a module holding various helper functions for doing this analysis."
   ]
  },
  {
   "cell_type": "code",
   "execution_count": 88,
   "metadata": {
    "collapsed": false
   },
   "outputs": [],
   "source": [
    "from scotus.db import DB\n",
    "from scotus.settings import DEFAULT_DB\n",
    "from scotus.learn import vote_predict\n",
    "\n",
    "database = DB(DEFAULT_DB)\n",
    "all_data = vote_predict.fetch_data(database)"
   ]
  },
  {
   "cell_type": "markdown",
   "metadata": {},
   "source": [
    "## Organize\n",
    "For this demo I am only going to focus on the votes of Justice Kennedy. So I will filter out the other data.  Additionally, I will save the case names, so I can use them for labelling later."
   ]
  },
  {
   "cell_type": "code",
   "execution_count": 89,
   "metadata": {
    "collapsed": false
   },
   "outputs": [],
   "source": [
    "def justice_data(justice_id, data):\n",
    "    '''split out the data for a single justice given the justice id'''\n",
    "    d = data[data['justice_id']==justice_id]\n",
    "    d = d[d['vote'] != 'none']\n",
    "    return d\n",
    "\n",
    "kennedy_data = justice_data(9, all_data)\n",
    "\n",
    "case_names = kennedy_data['name']"
   ]
  },
  {
   "cell_type": "markdown",
   "metadata": {},
   "source": [
    "# Make the Features\n",
    "Because my fetch_data function returns a pandas dataframe, that contains statistics as well as document data my feature generation process is slightly complicated. \n",
    "\n",
    "## Docment Pipeline\n",
    "My dataframe contains several columns that have documents in them. These need to be extracted processed into latant semantic space, before I can combine them with other features. I need to generate a mini-pipeline that will take each document column and generate latant semantic features for it. This is done with the function DocumentPipeline that will construct such a pipeline given the column name."
   ]
  },
  {
   "cell_type": "code",
   "execution_count": 90,
   "metadata": {
    "collapsed": false
   },
   "outputs": [],
   "source": [
    "from sklearn.feature_extraction.text import TfidfVectorizer\n",
    "from sklearn.base import BaseEstimator, TransformerMixin\n",
    "from sklearn.decomposition import TruncatedSVD\n",
    "from sklearn.pipeline import Pipeline\n",
    "\n",
    "class DocumentList(BaseEstimator, TransformerMixin):\n",
    "    def __init__(self, column_id=None):\n",
    "        self.column_id = column_id\n",
    "    \n",
    "    def fit(self, X, y=None):\n",
    "        return self\n",
    "  \n",
    "    def transform(self, X, y=None):\n",
    "        return X[self.column_id].tolist()\n",
    "\n",
    "def DocumentPipeline(column):\n",
    "    return Pipeline([('extract', DocumentList(column_id=column)),\n",
    "                     ('tfidf', TfidfVectorizer(min_df=2, max_df=.95, stop_words='english', sublinear_tf=True)),\n",
    "                     ('lsa', TruncatedSVD(n_components=100))])"
   ]
  },
  {
   "cell_type": "markdown",
   "metadata": {},
   "source": [
    "## Sklearn_pandas\n",
    "The library sklearn_pandas allows me to map my numeric columns directly to a numpy array that I can put into my algorithm. Additionally I can pipe my categorical features through LabelEncoders directly so all my data is numeric and ready to go."
   ]
  },
  {
   "cell_type": "code",
   "execution_count": 91,
   "metadata": {
    "collapsed": true
   },
   "outputs": [],
   "source": [
    "from sklearn_pandas import DataFrameMapper\n",
    "from sklearn.preprocessing import LabelEncoder\n",
    "\n",
    "statistics = DataFrameMapper([\n",
    "                ('gender_petitioner', LabelEncoder()),\n",
    "                ('gender_respondent', LabelEncoder()),\n",
    "                ('interrupted_petitioner', None),\n",
    "                ('interrupted_respondent', None),\n",
    "                ('interrupting_petitioner', None),\n",
    "                ('interrupting_respondent', None),\n",
    "                ('number_turns_petitioner', None),\n",
    "                ('number_turns_respondent', None),\n",
    "                ('speaking_time_petitioner', None),\n",
    "                ('speaking_time_respondent', None),\n",
    "                ('turn_length_petitioner', None),\n",
    "                ('turn_length_respondent', None),\n",
    "                ('justice_interrupted_petitioner', None),\n",
    "                ('justice_interrupted_respondent', None),\n",
    "                ('justice_interrupting_petitioner', None),\n",
    "                ('justice_interrupting_respondent', None),\n",
    "                ('justice_number_turns_petitioner', None),\n",
    "                ('justice_number_turns_respondent', None),\n",
    "                ('justice_speaking_time_petitioner', None),\n",
    "                ('justice_speaking_time_respondent', None),\n",
    "                ('justice_turn_length_petitioner', None),\n",
    "                ('justice_turn_length_respondent', None),\n",
    "                ])"
   ]
  },
  {
   "cell_type": "markdown",
   "metadata": {},
   "source": [
    "## Feature Union\n",
    "Now I can combine my document extraction pipeline and my dataframe mapper using scikit-learn's FeatureUnion. The benefit of having everything in Pipelines and FeatureUnions is that I can use this to crossvalidate and gridsearch with the scikit-learn framework."
   ]
  },
  {
   "cell_type": "code",
   "execution_count": 92,
   "metadata": {
    "collapsed": false
   },
   "outputs": [],
   "source": [
    "from sklearn.pipeline import FeatureUnion\n",
    "\n",
    "features = FeatureUnion([\n",
    "            ('facts', DocumentPipeline('facts')),\n",
    "            ('document_petitioner', DocumentPipeline('document_petitioner')),\n",
    "            ('document_respondent', DocumentPipeline('document_respondent')),\n",
    "            ('justice_document_petitioner', DocumentPipeline('justice_document_petitioner')),\n",
    "            ('justice_document_respondent', DocumentPipeline('justice_document_respondent')),\n",
    "            ('statistics', statistics)])"
   ]
  },
  {
   "cell_type": "markdown",
   "metadata": {},
   "source": [
    "## Output Processor\n",
    "My output variable is stored as a string that labels which side the Justice voted on. I need to encode it, so I will use sklearn-pandas to make a mapper for that purpose."
   ]
  },
  {
   "cell_type": "code",
   "execution_count": 93,
   "metadata": {
    "collapsed": true
   },
   "outputs": [],
   "source": [
    "y_mapper = DataFrameMapper([('vote', LabelEncoder())])"
   ]
  },
  {
   "cell_type": "markdown",
   "metadata": {},
   "source": [
    "# Exploration\n",
    "Now that I have my features all set up, I would like to take a look and see what's going on. To that end I will do PCA and plot the results to see what kind of separation my classes (petitioner and respondent) are getting from these features.\n"
   ]
  },
  {
   "cell_type": "code",
   "execution_count": 94,
   "metadata": {
    "collapsed": false
   },
   "outputs": [],
   "source": [
    "%matplotlib inline\n",
    "import matplotlib.pyplot as plt\n",
    "from sklearn.pipeline import Pipeline\n",
    "from sklearn.preprocessing import StandardScaler\n",
    "from sklearn.feature_extraction.text import TfidfVectorizer\n",
    "from sklearn.base import BaseEstimator, TransformerMixin\n",
    "from sklearn.decomposition import TruncatedSVD\n",
    "from sklearn.pipeline import Pipeline\n",
    "\n",
    "class DocumentList(BaseEstimator, TransformerMixin):\n",
    "    def __init__(self, column_id=None):\n",
    "        self.column_id = column_id\n",
    "    \n",
    "    def fit(self, X, y=None):\n",
    "        return self\n",
    "  \n",
    "    def transform(self, X, y=None):\n",
    "        return X[self.column_id].tolist()\n",
    "\n",
    "def DocumentPipeline(column):\n",
    "    return Pipeline([('extract', DocumentList(column_id=column)),\n",
    "                     ('tfidf', TfidfVectorizer(min_df=1, sublinear_tf=True)),\n",
    "                     ('lsa', TruncatedSVD(n_components=100))])\n",
    "\n",
    "features = FeatureUnion([\n",
    "            ('facts', DocumentPipeline('facts')),\n",
    "            ('document_petitioner', DocumentPipeline('document_petitioner')),\n",
    "            ('document_respondent', DocumentPipeline('document_respondent')),\n",
    "            ('justice_document_petitioner', DocumentPipeline('justice_document_petitioner')),\n",
    "            ('justice_document_respondent', DocumentPipeline('justice_document_respondent')),\n",
    "            ('statistics', statistics)])\n",
    "\n",
    "explore = Pipeline([\n",
    "              ('features', features),\n",
    "              ('scale', StandardScaler())])\n",
    "\n",
    "raw_data = explore.fit_transform(kennedy_data)\n",
    "y = y_mapper.fit_transform(kennedy_data).flatten()\n"
   ]
  },
  {
   "cell_type": "code",
   "execution_count": 110,
   "metadata": {
    "collapsed": false
   },
   "outputs": [
    {
     "data": {
      "text/plain": [
       "<matplotlib.collections.PathCollection at 0x1190cb650>"
      ]
     },
     "execution_count": 110,
     "metadata": {},
     "output_type": "execute_result"
    },
    {
     "data": {
      "image/png": "[encoded data removed]",
      "text/plain": [
       "<matplotlib.figure.Figure at 0x116b8a510>"
      ]
     },
     "metadata": {},
     "output_type": "display_data"
    }
   ],
   "source": [
    "from sklearn.feature_selection import GenericUnivariateSelect\n",
    "from sklearn.decomposition import KernelPCA\n",
    "from sklearn.feature_selection import f_classif\n",
    "\n",
    "select = GenericUnivariateSelect(score_func=f_classif, mode='k_best', param=100)\n",
    "X = select.fit_transform(raw_data, y=y.flatten())\n",
    "\n",
    "pca = PCA(whiten=True)\n",
    "X = pca.fit_transform(X)\n",
    "      \n",
    "plt.scatter(X[:, 0], X[:, 1], c=y.flatten(), cmap='bwr')"
   ]
  },
  {
   "cell_type": "code",
   "execution_count": 114,
   "metadata": {
    "collapsed": false
   },
   "outputs": [],
   "source": [
    "import numpy as np\n",
    "from sklearn.svm import SVC, LinearSVC\n",
    "from sklearn.learning_curve import validation_curve\n",
    "from sklearn.decomposition import KernelPCA, PCA\n",
    "from sklearn.discriminant_analysis import LinearDiscriminantAnalysis\n",
    "\n",
    "#numeric_data = features.fit_transform(kennedy_data)\n",
    "\n",
    "from sklearn.pipeline import FeatureUnion\n",
    "\n",
    "\n",
    "predict = Pipeline([\n",
    "              ('features', features),\n",
    "              ('scale', StandardScaler()),\n",
    "              ('select', GenericUnivariateSelect(score_func=f_classif, mode='k_best', param=100)),\n",
    "              ('pca', PCA(whiten=True)),\n",
    "              #('pca', KernelPCA(kernel='linear')),\n",
    "              #('predict', SVC(probability=True, kernel='poly'))])\n",
    "              ('predict', LinearDiscriminantAnalysis())])\n",
    "\n"
   ]
  },
  {
   "cell_type": "code",
   "execution_count": 115,
   "metadata": {
    "collapsed": false
   },
   "outputs": [
    {
     "data": {
      "image/png": "[encoded data removed]",
      "text/plain": [
       "<matplotlib.figure.Figure at 0x1156f6890>"
      ]
     },
     "metadata": {},
     "output_type": "display_data"
    }
   ],
   "source": [
    "from scipy import interp\n",
    "from sklearn.metrics import roc_curve, auc\n",
    "from sklearn.cross_validation import KFold\n",
    "\n",
    "mean_tpr = 0.0\n",
    "mean_fpr = np.linspace(0, 1, 100)\n",
    "all_tpr = []\n",
    "cv = KFold(len(y), n_folds=4, shuffle=True)\n",
    "for i, (train, test) in enumerate(cv):\n",
    "    probas_ = predict.fit(kennedy_data.iloc[train], y[train]).predict_proba(kennedy_data.iloc[test])\n",
    "    # Compute ROC curve and area the curve\n",
    "    fpr, tpr, thresholds = roc_curve(y[test], probas_[:, 1])\n",
    "    mean_tpr += interp(mean_fpr, fpr, tpr)\n",
    "    mean_tpr[0] = 0.0\n",
    "    roc_auc = auc(fpr, tpr)\n",
    "    plt.plot(fpr, tpr, lw=1, label='ROC fold %d (area = %0.2f)' % (i, roc_auc))\n",
    "\n",
    "plt.plot([0, 1], [0, 1], '--', color=(0.6, 0.6, 0.6), label='Luck')\n",
    "\n",
    "mean_tpr /= len(cv)\n",
    "mean_tpr[-1] = 1.0\n",
    "mean_auc = auc(mean_fpr, mean_tpr)\n",
    "plt.plot(mean_fpr, mean_tpr, 'k--',\n",
    "         label='Mean ROC (area = %0.2f)' % mean_auc, lw=2)\n",
    "\n",
    "plt.xlim([-0.05, 1.05])\n",
    "plt.ylim([-0.05, 1.05])\n",
    "plt.xlabel('False Positive Rate')\n",
    "plt.ylabel('True Positive Rate')\n",
    "plt.title('Receiver operating characteristic example')\n",
    "plt.legend(loc=\"lower right\")\n",
    "plt.show()"
   ]
  },
  {
   "cell_type": "code",
   "execution_count": 98,
   "metadata": {
    "collapsed": false
   },
   "outputs": [
    {
     "data": {
      "text/plain": [
       "92"
      ]
     },
     "execution_count": 98,
     "metadata": {},
     "output_type": "execute_result"
    }
   ],
   "source": [
    "len(kennedy_data)"
   ]
  },
  {
   "cell_type": "code",
   "execution_count": 99,
   "metadata": {
    "collapsed": false
   },
   "outputs": [
    {
     "data": {
      "text/plain": [
       "36"
      ]
     },
     "execution_count": 99,
     "metadata": {},
     "output_type": "execute_result"
    }
   ],
   "source": [
    "np.sum(y)"
   ]
  },
  {
   "cell_type": "code",
   "execution_count": 23,
   "metadata": {
    "collapsed": false
   },
   "outputs": [],
   "source": [
    "with open('all_data.csv', 'wb') as f:\n",
    "    n_data.to_csv(f, encoding='utf-8')"
   ]
  },
  {
   "cell_type": "code",
   "execution_count": null,
   "metadata": {
    "collapsed": true
   },
   "outputs": [],
   "source": []
  }
 ],
 "metadata": {
  "kernelspec": {
   "display_name": "Python 2",
   "language": "python",
   "name": "python2"
  },
  "language_info": {
   "codemirror_mode": {
    "name": "ipython",
    "version": 2
   },
   "file_extension": ".py",
   "mimetype": "text/x-python",
   "name": "python",
   "nbconvert_exporter": "python",
   "pygments_lexer": "ipython2",
   "version": "2.7.11"
  }
 },
 "nbformat": 4,
 "nbformat_minor": 0
}
